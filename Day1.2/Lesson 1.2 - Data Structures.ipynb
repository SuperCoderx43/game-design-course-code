{
 "cells": [
  {
   "cell_type": "markdown",
   "source": [
    "# Lesson 1.2 - Data Structures\r\n",
    "\r\n",
    "## Intro to **Python** coding\r\n",
    "\r\n",
    "Understanding how computers think and how we can think like them is what it means to be a programmer. All programming languages use similar structures and techniques to perform their various objectives, they just use a different language to communicate. To make an analogy, its like speaking. Learning to think like a computer is learning how to make different noises with your mouth, while coding in any given language is knowing how to put these noises together to make meaningful words.\r\n",
    "\r\n",
    "Hello, Hola, Gutentag, Stratzvutye, Ni Hao. \r\n",
    "\r\n",
    "You can sound all these out because your mouth knows what to do. You've just said hello in 5 different languages.\r\n",
    "\r\n",
    "# The Basics\r\n",
    "\r\n",
    "We won't do much coding today, but I want to show you a few things before we move ahead. These are core concepts that we'll use moving forward in the course.\r\n",
    "\r\n",
    "<b>The print() statement:</b>\r\n",
    "We can make python display something using the print() statement. This is one of the best ways to check your code and make sure its doing what you want it to.\r\n",
    "\r\n",
    "Let's try it. In the space below, let's print \"Hello World\".\r\n",
    "\r\n",
    "# Its Lit!"
   ],
   "metadata": {}
  },
  {
   "cell_type": "code",
   "execution_count": 3,
   "source": [
    "print(\"Hello World\")\r\n",
    "print(\"super!\")"
   ],
   "outputs": [
    {
     "output_type": "stream",
     "name": "stdout",
     "text": [
      "Hello World\n",
      "super!\n"
     ]
    }
   ],
   "metadata": {}
  },
  {
   "cell_type": "markdown",
   "source": [
    "You have successfully run your first Python program! Simple as it may be, its still code. You have told the machine what you want it to do and it has output the desired result. Let's try a few more things. Add the things you want to print to the lines below. Let's see what works and what doesn't work."
   ],
   "metadata": {}
  },
  {
   "cell_type": "code",
   "execution_count": null,
   "source": [
    "print(\"My name is Mr. McGoffin\")\r\n",
    "print(\"Why do the quotation marks matter?\")"
   ],
   "outputs": [],
   "metadata": {}
  },
  {
   "cell_type": "markdown",
   "source": [
    "The next concept is the comment. Good code is full of comments to guide the user through what is happening in the program. Comments are denoted using the # symbol. Anything in a line after the # symbol will not be recognized by the program."
   ],
   "metadata": {}
  },
  {
   "cell_type": "code",
   "execution_count": null,
   "source": [
    "print(\"This line is commented\") # Here is the comment. It will not affect the code at all."
   ],
   "outputs": [],
   "metadata": {}
  },
  {
   "cell_type": "markdown",
   "source": [
    "I will be using comments to guide you through the activities we are doing in class, and it is a good idea for you to use comments as notes in your code"
   ],
   "metadata": {}
  },
  {
   "cell_type": "markdown",
   "source": [
    "## Variables, Types, and Basic Operations\n",
    "\n",
    "Variables in programming are the same as in math. They symbollically represent anything you want! In programming, we use variables with intuitive names to make reading code much easier. Variables can contain letters, numbers, or _ , are case sensitive, and can be any (reasonable) length.\n",
    "\n",
    "**Good Examples:**<br/>\n",
    "x<br/>\n",
    "theta<br/>\n",
    "population<br/>\n",
    "thisVariableHasMultipleWordsInIt<br/>\n",
    "This_is_also_a_proper_variable<br/>\n",
    "\n",
    "**Bad examples:**<br/>\n",
    "This is a bad variable<br/>\n",
    "\"NO!\"<br/>\n",
    "slashes\\and\\colons:are\\bad:<br/>\n",
    "\n",
    "Typically in coding, we like to pick names for our variables that make sense. Also, variables with multiple words should start with a lower case letter, then use upper case letters for following words. This is not a rule in coding, just a convention (something most coders do so they can understand each other's work). \n",
    "\n",
    "For example, let's say you're making a fighting game. Your character may have Health to track. What would some good names for their Health be?"
   ],
   "metadata": {}
  },
  {
   "cell_type": "markdown",
   "source": [
    "**Good Variable Names**\n",
    "\n",
    "1. health\n",
    "2. hp\n",
    "3. healthPoints\n",
    "4. blood"
   ],
   "metadata": {}
  },
  {
   "cell_type": "markdown",
   "source": [
    "<img src=\"ArtAssets2/PixelArt.png\" width=\"400\">"
   ],
   "metadata": {}
  },
  {
   "cell_type": "markdown",
   "source": [
    "# Types of variables\n",
    "\n",
    "Computers aren't as smart as you are. If you try to tell a computer to do something with a variable, it will assume the variable is the kind of thing it needs. Otherwise it breaks. For example, you can't add a Troll and Orc and get 2. You're smart enough to know that maybe you're counting baddies. The computer, however, will not give the expected output. It will break trying to add a Troll to and Orc (and no one wants to see what that would make anyway...).\n",
    "\n",
    "**Variable types:**<br/>\n",
    "\n",
    "*Boolean* - The variable can only be *True* or *False*:<br/>\n",
    "<blockquote>alive = True <br/>dead = False</blockquote><br/>\n",
    "*Integer* - Any number without a decimal place:<br/> \n",
    "<blockquote>spellPower = 52 </blockquote><br/>\n",
    "*Float/Double* - Any number with a decimal place:<br/> \n",
    "<blockquote>health = 1276.8 </blockquote><br/>\n",
    "\n",
    "***Here's a few things to remember about variables:***\n",
    "\n",
    "   1. To assign a value to a variable, we use an = sign. <br/>\n",
    "\n",
    "   2. Variables are assigned left to right, not the other way around. Flipping the variable and value won't work: <br/>\n",
    "        i.e. `1 = numberOne` BAD!!!<br/>\n",
    "    \n",
    "   3. Variables are created when first assigned, and must be created before they are used.\n",
    "\n",
    "These variables above are the types of variables that have to do with math. There are more variable types than this, which we will discuss later today.\n",
    "\n",
    "\n",
    "# Basic Math, Integers, and Floats/Doubles\n",
    "\n",
    "## Basic Math Operations\n",
    "In python, you can perform basic math operations by using the typical math symbols and a few extras\n",
    "\n",
    "**Math Operations**\n",
    "<blockquote>+ : Addition<br/>\n",
    "- : Subtraction<br/>\n",
    "* : Multiplication<br/>\n",
    "/ : Division<br/>\n",
    "% : Modulus<br/>\n",
    "** : Exponent<br/>\n",
    "// : Floor Division</blockquote>\n",
    "\n",
    "### Math on Integers\n",
    "\n",
    "**Task:** Define two integers, called 'damage' and 'attackModifier' and give them values. Then, perform each math operation between them. Let's see if we can figure out what these new operations do."
   ],
   "metadata": {}
  },
  {
   "cell_type": "code",
   "execution_count": 4,
   "source": [
    "# define your damage and attackModifier integer variables here\r\n",
    "damage = 100\r\n",
    "attackModifier = 1.5\r\n",
    "print(\"You dealt \" + str(damage * attackModifier) + \" damage.\")"
   ],
   "outputs": [
    {
     "output_type": "stream",
     "name": "stdout",
     "text": [
      "You dealt 150.0 damage.\n"
     ]
    }
   ],
   "metadata": {}
  },
  {
   "cell_type": "code",
   "execution_count": 5,
   "source": [
    "# add damage and attackModifier\r\n",
    "print(damage + attackModifier)"
   ],
   "outputs": [
    {
     "output_type": "stream",
     "name": "stdout",
     "text": [
      "101.5\n"
     ]
    }
   ],
   "metadata": {}
  },
  {
   "cell_type": "code",
   "execution_count": 6,
   "source": [
    "# subtract damage and attackModifier -\r\n",
    "print(damage - attackModifier)"
   ],
   "outputs": [
    {
     "output_type": "stream",
     "name": "stdout",
     "text": [
      "98.5\n"
     ]
    }
   ],
   "metadata": {}
  },
  {
   "cell_type": "code",
   "execution_count": 7,
   "source": [
    "# multiply damage and attackModifier  *\r\n",
    "print(damage * attackModifier)"
   ],
   "outputs": [
    {
     "output_type": "stream",
     "name": "stdout",
     "text": [
      "150.0\n"
     ]
    }
   ],
   "metadata": {}
  },
  {
   "cell_type": "code",
   "execution_count": 8,
   "source": [
    "# divide damage and attackModifier /\r\n",
    "print(damage / attackModifier)"
   ],
   "outputs": [
    {
     "output_type": "stream",
     "name": "stdout",
     "text": [
      "66.66666666666667\n"
     ]
    }
   ],
   "metadata": {}
  },
  {
   "cell_type": "code",
   "execution_count": 9,
   "source": [
    "# mod(ulus) damage and attackModifier %\r\n",
    "print(damage % attackModifier)"
   ],
   "outputs": [
    {
     "output_type": "stream",
     "name": "stdout",
     "text": [
      "1.0\n"
     ]
    }
   ],
   "metadata": {}
  },
  {
   "cell_type": "code",
   "execution_count": 10,
   "source": [
    "# exponentiate damage and attackModifier  **\r\n",
    "print(damage ** attackModifier)"
   ],
   "outputs": [
    {
     "output_type": "stream",
     "name": "stdout",
     "text": [
      "1000.0\n"
     ]
    }
   ],
   "metadata": {}
  },
  {
   "cell_type": "code",
   "execution_count": 11,
   "source": [
    "# floor divide damage and attackModifier //\r\n",
    "print(damage // attackModifier)"
   ],
   "outputs": [
    {
     "output_type": "stream",
     "name": "stdout",
     "text": [
      "66.0\n"
     ]
    }
   ],
   "metadata": {}
  },
  {
   "cell_type": "markdown",
   "source": [
    "What do mod (%) and floor divide (//) do?\r\n",
    "mod takes the remainder of dividing two numbers and floor divide gives the largest number of division\r\n"
   ],
   "metadata": {}
  },
  {
   "cell_type": "markdown",
   "source": [
    "### Now let's try float/doubles\n",
    "\n",
    "**Task:** Let's try doing some math with float/double numbers instead. Define two floats, called `health` and `mysteriousPotion` and give them floating values 10.5 and 2.5, respectively. Then, perform two of the above math operations on them."
   ],
   "metadata": {}
  },
  {
   "cell_type": "code",
   "execution_count": 12,
   "source": [
    "#define your health and mysteriousPotion float variables here. Remember, floats have decimals!\r\n",
    "health = 10.5\r\n",
    "mysteriousPotion = 2.5"
   ],
   "outputs": [],
   "metadata": {}
  },
  {
   "cell_type": "code",
   "execution_count": 13,
   "source": [
    "# math operation one\r\n",
    "health // mysteriousPotion"
   ],
   "outputs": [
    {
     "output_type": "execute_result",
     "data": {
      "text/plain": [
       "4.0"
      ]
     },
     "metadata": {},
     "execution_count": 13
    }
   ],
   "metadata": {}
  },
  {
   "cell_type": "code",
   "execution_count": 14,
   "source": [
    "# math operation two\r\n",
    "health % mysteriousPotion"
   ],
   "outputs": [
    {
     "output_type": "execute_result",
     "data": {
      "text/plain": [
       "0.5"
      ]
     },
     "metadata": {},
     "execution_count": 14
    }
   ],
   "metadata": {}
  },
  {
   "cell_type": "markdown",
   "source": [
    "What's different about these answers?\n",
    "\n",
    "Let me explain the new operations\n",
    "\n",
    "<blockquote>% - Modulus gives the remainder of integer division.<br/>\n",
    "** - Exponent raises the left value to the right power<br/>\n",
    "// - Floor Division performs normal division then chops off the decimal, returning an int</blockquote>"
   ],
   "metadata": {}
  },
  {
   "cell_type": "markdown",
   "source": [
    "## Boolean Operations\n",
    "\n",
    "Recall, a boolean variable can only be `True` or `False`, or alternatively `1` or `0` (this is binary! If you want to know more aboute binary, ask me after the lecture)\n",
    "\n",
    "Turns out, you don't need addition, subtraction, multiplication, or division if you're working with boolean variables. These operations don't have any meaning, as they are defined for our number system, not boolean.\n",
    "\n",
    "Thus, we define some new operations called *Boolean Operators*. This forms a whole new math called *Boolean Algebra*. This is an entire course in itself, so we're just going to discuss the basics. \n",
    "\n",
    "**The Boolean Operators**\n",
    "Boolean operations take two inputs, and give a specific output. Just like 2 + 3 = 5.\n",
    "<blockquote>AND - This requires both inputs to be True to output True.<br/>\n",
    "<blockquote>True and True = True<br/>\n",
    "    True and False = False<br/>\n",
    "    False and True = False<br/>\n",
    "    False and False = False<br/></blockquote>\n",
    "    \n",
    "<i>OR</i> - This requires at least one input to be True to output True.<br/>\n",
    "<blockquote>True or True = True<br/>\n",
    "    True or False = True<br/>\n",
    "    False or True = True<br/>\n",
    "    False or False = False<br/></blockquote>\n",
    "    \n",
    "<i>NOT</i> - This flips the output.<br/>\n",
    "<blockquote>not True = False<br/>\n",
    "    not False = True</blockquote></blockquote>\n",
    "    \n",
    "<b>Combining Boolean Operations</b><br/>\n",
    "We can combine Boolean Operations just like math equations."
   ],
   "metadata": {}
  },
  {
   "cell_type": "code",
   "execution_count": 16,
   "source": [
    "(True and False) or True #Note we can use () in coding just like math!"
   ],
   "outputs": [
    {
     "output_type": "execute_result",
     "data": {
      "text/plain": [
       "True"
      ]
     },
     "metadata": {},
     "execution_count": 16
    }
   ],
   "metadata": {}
  },
  {
   "cell_type": "code",
   "execution_count": 15,
   "source": [
    "(not True) and True"
   ],
   "outputs": [
    {
     "output_type": "execute_result",
     "data": {
      "text/plain": [
       "False"
      ]
     },
     "metadata": {},
     "execution_count": 15
    }
   ],
   "metadata": {}
  },
  {
   "cell_type": "markdown",
   "source": [
    "***Aside:*** What do you notice about the colors in the code? My parenthesis \"()\" are white, while \"True\" and \"False\" are purple and \"and\" and \"or\" are red. That is because keywords built into python get color coded by the notebook to make your code easier to read. Because all of these words are defined by the language, not you, they are different colors.\n",
    "\n",
    "## Comparison Operators\n",
    "\n",
    "Comparison operators are things you're used to seeing in math, like the equal sign, but they have a very specific meaning in coding. A comparison operator is asking a question, and the ansewer can only be 'True' or 'False'. The output is the type called a Boolean (which we learned a bit about yesterday), and is extremely useful for managing logic in our code.\n",
    "\n",
    "Here's a list of the comparison operations we can doing in python:\n",
    "\n",
    "**Comparison Operators**\n",
    "<blockquote>== : Equals. Returns True if inputs are equal. Otherwise returns False<br/>\n",
    "!= : Not Equal. Returns True if inputs are NOT equal. Otherwise returns False<br/>\n",
    ">= : Greater than or equal to. Returns True if the left input is greater than or equal to the right. Otherwise returns False<br/>\n",
    "<= : Less than or equal to. Returns True if the left input is less than or equal to the right. Otherwise returns False<br/>\n",
    "> : Greater than. Returns True if the left input is greater than the right. Otherwise returns False<br/>\n",
    "< : Less than. Returns True if the left input is less than the right. Otherwise returns False</blockquote>\n",
    "\n",
    "Let's try it.\n",
    "\n",
    "What do the following written expression return?\n",
    "\n",
    "I have to fight two types of baddies, Trolls and Orcs. I have 14 Trolls and 22 Orcs.\n",
    "\n",
    "1. Are there as many Trolls as Orcs?\n",
    "2. Are there more Trolls than Orcs?\n",
    "3. Are there less than or the same number of Trolls as Orcs?\n",
    "\n",
    "Pretty easy to answer in text, right? Now let's translate it to code. See if you can write this on your own:"
   ],
   "metadata": {}
  },
  {
   "cell_type": "code",
   "execution_count": null,
   "source": [
    "# Declare your Trolls and Orcs variables here\r\n",
    "trolls = 14\r\n",
    "orcs = 22\r\n"
   ],
   "outputs": [],
   "metadata": {}
  },
  {
   "cell_type": "code",
   "execution_count": null,
   "source": [
    "# Are there as many Trolls as Orcs?"
   ],
   "outputs": [],
   "metadata": {}
  },
  {
   "cell_type": "code",
   "execution_count": null,
   "source": [
    "# Are there more Trolls than Orcs?"
   ],
   "outputs": [],
   "metadata": {}
  },
  {
   "cell_type": "code",
   "execution_count": null,
   "source": [
    "# Are there less than or the same number of Trolls as Orcs?\r\n",
    "print(\"There are less than or the same number of trolls as orcs: \"+str(```your expression goes here```))"
   ],
   "outputs": [],
   "metadata": {}
  },
  {
   "cell_type": "markdown",
   "source": [
    "Now, we can do math and comparisons at the same time. Kind of like an equation in math class. Here's a few more questions, involving both the math operations above and comparison operators:\n",
    "\n",
    "1. Do I have more than 30 baddies to fight?\n",
    "2. If I kill one Orc for every Troll, how many Orcs will be left to fight?\n",
    "3. Do I need to kill twice as many Orcs as Trolls?\n",
    "\n",
    "Again, easy to answer in text. Let's try the code."
   ],
   "metadata": {}
  },
  {
   "cell_type": "code",
   "execution_count": null,
   "source": [
    "# Do I have more than 30 baddies to fight?\r\n"
   ],
   "outputs": [],
   "metadata": {}
  },
  {
   "cell_type": "code",
   "execution_count": null,
   "source": [
    "# If I kill one Orc for every Troll, how many Orcs will be left to fight?"
   ],
   "outputs": [],
   "metadata": {}
  },
  {
   "cell_type": "code",
   "execution_count": null,
   "source": [
    "# Do I need to kill twice as many Orcs as Trolls?"
   ],
   "outputs": [],
   "metadata": {}
  },
  {
   "cell_type": "markdown",
   "source": [
    "## More Assignment Operations\n",
    "\n",
    "You can simultaneously manipulate variables and assign them values using special assignment operators. These are really just a mash up of the math operations and an `=` sign. For these, it performs the operation from left to right, then assigns the output to the left variable.\n",
    "\n",
    "Here's a list of the assignment operations:\n",
    "\n",
    "<blockquote>+= - Adds the two variables<br/>\n",
    "-= - Subtracts the two variables<br/>\n",
    "*= - Multiplies the two variables<br/>\n",
    "/= - Divides the two variables<br/>\n",
    "%= - Takes the Modulus of two variables<br/>\n",
    "**= - Exponentiates the two variables<br/>\n",
    "//= - Floor divides the two variables</blockquote>\n",
    "\n",
    "We aren't going to do any examples of these today, but I will use some of them throughout the course and want you to be familiar with them."
   ],
   "metadata": {}
  },
  {
   "cell_type": "markdown",
   "source": [
    "# More Variable Types\n",
    "\n",
    "The previous variables we learned have to do with math (Boolean Algebra and normal math). The next variables are better for information:\n",
    "\n",
    "**Information Variables**\n",
    "\n",
    "String - A group of characters: <br/> \n",
    "<blockquote>characterName = \"Rivaan\" </blockquote><br/>\n",
    "List - An ordered collection of any types that can be modified:<br/>\n",
    "<blockquote>inventory = [\"Health Potion\", \"Short Sword\", \"Philactory\"]</blockquote><br/>\n",
    "Tuple - Like a list, but unchangeable: <br/> \n",
    "<blockquote>equipmentSlots = (head, torso, legs, leftArm, rightArm) </blockquote>\n",
    "Dictionary - A \"list\" of aliases:<br/>\n",
    "<blockquote>attributes = {\"Strength\" : 17, \"Dexterity\" : 11, \"Constitution\" : 16, \"Intelligence\" : 10, \"Wisdom\" : 9, \"Charisma\" : 12}</blockquote>"
   ],
   "metadata": {}
  },
  {
   "cell_type": "markdown",
   "source": [
    "## Strings\n",
    "\n",
    "Like I said before, you can't perform math operations on the wrong type of variable. Let's make two strings, say types of sword attacks, and try to add them here. Remember, when you define a string you need to use \" \" around it."
   ],
   "metadata": {}
  },
  {
   "cell_type": "code",
   "execution_count": null,
   "source": [
    "firstAttack = \"swing\"\r\n",
    "secondAttack = \"thrust\"\r\n",
    "\r\n",
    "firstAttack + \" \" + secondAttack"
   ],
   "outputs": [],
   "metadata": {}
  },
  {
   "cell_type": "markdown",
   "source": [
    "<b>String operations</b>\n",
    "\n",
    "What you have just done is called a concatenate. It takes two strings and mashes them together. We can also perform functions like searching for characters or strings within strings and chopping off pieces of strings. "
   ],
   "metadata": {}
  },
  {
   "cell_type": "code",
   "execution_count": null,
   "source": [
    "print(\"a\" in firstAttack)\r\n",
    "print(\"u\" in secondAttack)"
   ],
   "outputs": [],
   "metadata": {}
  },
  {
   "cell_type": "markdown",
   "source": [
    "What type of output did you get from the code above? Note that understanding the types returned from any given operation is important to ensure your code is functioning properly. Python is pretty flexible with this, and will usually tell you if it has an issue. Some other languages are much less forgiving.\n",
    "\n",
    "<b>Special Characters:</b><br/>\n",
    "There are special rules for strings and special inputs to make things appear how you'd like. The \\ allows you to input these special symbols:\n",
    "<blockquote>\\n - newline<br/>\n",
    "\\t - tab<br/>\n",
    "\\' - single quote<br/>\n",
    "\\\" - double quote<br/>\n",
    "\\\\ - backslash </blockquote>\n",
    "\n",
    "Here's the example output in python:"
   ],
   "metadata": {}
  },
  {
   "cell_type": "code",
   "execution_count": null,
   "source": [
    "print(\"Here's a new line\\nNew Line!\")"
   ],
   "outputs": [],
   "metadata": {}
  },
  {
   "cell_type": "code",
   "execution_count": null,
   "source": [
    "print(\"How about a \\ttab?\")"
   ],
   "outputs": [],
   "metadata": {}
  },
  {
   "cell_type": "code",
   "execution_count": null,
   "source": [
    "print('Here we will only \\'quote\\' once')"
   ],
   "outputs": [],
   "metadata": {}
  },
  {
   "cell_type": "code",
   "execution_count": null,
   "source": [
    "print(\"Here we will \\\"quote quote\\\" twice\")"
   ],
   "outputs": [],
   "metadata": {}
  },
  {
   "cell_type": "code",
   "execution_count": null,
   "source": [
    "print(\"How many \\\\backslash\\\\ will this line have?\")"
   ],
   "outputs": [],
   "metadata": {}
  },
  {
   "cell_type": "markdown",
   "source": [
    "# Lists, Tuples, and Dictionaries\n",
    "\n",
    "Lists, Tuples, and Dictionaries are larger data structures, used to contain a large amount of information. There's some subtle differences between them, which translate to massive differences in how they are used.\n",
    "\n",
    "We'll start with lists and tuples. Lists and tuples are practically the same thing except for one important detail: you can change lists, but you can't change tuples!\n",
    "\n",
    "To practice this, we'll start by making a list of sword attacks like above. Let's call this an `attack_combo`. To make a list, you must use square brackets []."
   ],
   "metadata": {}
  },
  {
   "cell_type": "code",
   "execution_count": 17,
   "source": [
    "first_attack = \"slash\"\r\n",
    "second_attack = \"thrust\"\r\n",
    "third_attack = \"feint\"\r\n",
    "fourth_attack = \"swing\"\r\n",
    "\r\n",
    "attack_combo = [first_attack, second_attack, third_attack, fourth_attack] # Create your list here"
   ],
   "outputs": [],
   "metadata": {}
  },
  {
   "cell_type": "markdown",
   "source": [
    "**Indexing**\n",
    "\n",
    "Now, we can display the parts of our combo in a slightly different way than before. We can print each line of the combo by selecting its proper place in the list. This place is called the index. You can think of it as the address within the list, kind of like your house or apartment number on your street or building.\n",
    "\n",
    "Note that list index starts counting from 0, so the `first_attack` in our `attack_combo` is at location 0 in our list. To call line one, you would use:\n",
    "<blockquote>attack_combo[0]</blockquote>\n",
    "\n",
    "Now, let's print the whole combo by using the list index."
   ],
   "metadata": {}
  },
  {
   "cell_type": "code",
   "execution_count": 19,
   "source": [
    "\r\n",
    "for i in range(0,4):\r\n",
    "    print(attack_combo[i])"
   ],
   "outputs": [
    {
     "output_type": "stream",
     "name": "stdout",
     "text": [
      "slash\n",
      "thrust\n",
      "feint\n",
      "swing\n"
     ]
    }
   ],
   "metadata": {}
  },
  {
   "cell_type": "markdown",
   "source": [
    "Strings, Lists, and Tuples all use indexing to access their pieces. In fact, you can add indices on indices. What does that mean? Well let's say I want to know the fifth letter of the second maneuver in my combo. Well the second line has index [1] and the fifth letter has index [4]. Can you guess the output of the following code?"
   ],
   "metadata": {}
  },
  {
   "cell_type": "code",
   "execution_count": 20,
   "source": [
    "print(attack_combo[1][4])"
   ],
   "outputs": [
    {
     "output_type": "stream",
     "name": "stdout",
     "text": [
      "s\n"
     ]
    }
   ],
   "metadata": {}
  },
  {
   "cell_type": "markdown",
   "source": [
    "**Tuples** are made and called the same way as lists, except they use parenthesis () instead of square brackets  []."
   ],
   "metadata": {}
  },
  {
   "cell_type": "code",
   "execution_count": 21,
   "source": [
    "sword_attacks = (\"slash\", \"thrust\", \"feint\", \"swing\")"
   ],
   "outputs": [],
   "metadata": {}
  },
  {
   "cell_type": "markdown",
   "source": [
    "Why would we use a tuple instead of a list? Let's say we have a character in our game that knows the above techniques when a sword is equiped. The character can slash, thrust, feignt, and swing the sword. These will never change, no matter what the character does.\n",
    "\n",
    "However, let's say our character learns combos as the game progresses. These combos might be stored as lists, because they change as we advance our character, while the moves our character can use still never change. Here's an example in code:"
   ],
   "metadata": {}
  },
  {
   "cell_type": "code",
   "execution_count": 22,
   "source": [
    "combo_one = [sword_attacks[0], sword_attacks[0], sword_attacks[1]]\r\n",
    "combo_two = [sword_attacks[0], sword_attacks[3], sword_attacks[3]]"
   ],
   "outputs": [],
   "metadata": {}
  },
  {
   "cell_type": "code",
   "execution_count": 23,
   "source": [
    "combo_one"
   ],
   "outputs": [
    {
     "output_type": "execute_result",
     "data": {
      "text/plain": [
       "['slash', 'slash', 'thrust']"
      ]
     },
     "metadata": {},
     "execution_count": 23
    }
   ],
   "metadata": {}
  },
  {
   "cell_type": "code",
   "execution_count": 24,
   "source": [
    "combo_two"
   ],
   "outputs": [
    {
     "output_type": "execute_result",
     "data": {
      "text/plain": [
       "['slash', 'swing', 'swing']"
      ]
     },
     "metadata": {},
     "execution_count": 24
    }
   ],
   "metadata": {}
  },
  {
   "cell_type": "markdown",
   "source": [
    "### Modifying Lists\n",
    "\n",
    "There are many ways to modify lists in Python. These are built into what are called *Methods*, which we'll learn about in week 2 of this class. In the mean time, we'll learn how to use *Methods* built in to our code. Here's a few examples of the things we can do:\n",
    "\n",
    "**List Methods**\n",
    "<blockquote>list.append(x) : adds x to the end of our list<br/>\n",
    "list.remove(x) : removes the first item in the list whose value is x<br/>\n",
    "list.sort() : sorts a list numberically, then alphabetically</blockquote>\n",
    "\n",
    "There are many more methods than this, and a link to the official python page on data structures is at the bottom of the lesson.\n",
    "\n",
    "Now, let's add an attack to one of our combos:"
   ],
   "metadata": {}
  },
  {
   "cell_type": "code",
   "execution_count": 25,
   "source": [
    "combo_one.append(sword_attacks[3])"
   ],
   "outputs": [],
   "metadata": {}
  },
  {
   "cell_type": "code",
   "execution_count": 26,
   "source": [
    "combo_one"
   ],
   "outputs": [
    {
     "output_type": "execute_result",
     "data": {
      "text/plain": [
       "['slash', 'slash', 'thrust', 'swing']"
      ]
     },
     "metadata": {},
     "execution_count": 26
    }
   ],
   "metadata": {}
  },
  {
   "cell_type": "markdown",
   "source": [
    "## Dictionaries\n",
    "\n",
    "The simplest way to explain dictionaries is just to show you one. Examine the code below:"
   ],
   "metadata": {}
  },
  {
   "cell_type": "code",
   "execution_count": 27,
   "source": [
    "sword_attacks_damage = {\"slash\": 10, \"thrust\": 20, \"feint\": 0, \"swing\": 15}"
   ],
   "outputs": [],
   "metadata": {}
  },
  {
   "cell_type": "markdown",
   "source": [
    "This looks like a list, but there are two elements in every entry, separated by a ':'. This sets up what's called an alias. I can access the 'values' in the dictionary, the part to the right of the :, through their 'keys', the left part of the :. The 'keys' work like indices, but instead you don't need to remember which index holds which entry.\n",
    "\n",
    "So what does the dictionary above do? Well, it has keyed all my possible swordAttacks (from the list above) to a number, the damage that that attack does. So, if my player executes an attack, python can look up the damage it does in the dictionary through the attack name. Let's see how this works."
   ],
   "metadata": {}
  },
  {
   "cell_type": "code",
   "execution_count": 28,
   "source": [
    "print(sword_attacks_damage[\"slash\"])"
   ],
   "outputs": [
    {
     "output_type": "stream",
     "name": "stdout",
     "text": [
      "10\n"
     ]
    }
   ],
   "metadata": {}
  },
  {
   "cell_type": "markdown",
   "source": [
    "Each of these print commands printed the number associated with the attack, or the 'value' referenced by the 'key'.\n",
    "\n",
    "So why would we use dictionaries? In game design, dictionaries are ***INCREDIBLY*** important. We use them to reference pre-made game elements. For example, if you create an enemy to fight in your game, the code that refers to that enemy will be huge! That enemy will have stats, attacks, loot, AI, etc. Passing that enemy around your code with all of its parts is dangerous, as you might alter the code on accident, and inefficient, as it takes up a lot of space in memory. Instead, we would store that enemy in a dictionary, and refer to that enemy through its key in the dictionary when we need to use it.\n",
    "\n",
    "This may not make a lot of sense now, but it will be much clearer when we start talking about **classes** later this week."
   ],
   "metadata": {}
  },
  {
   "cell_type": "markdown",
   "source": [
    "# Helpful Links\n",
    "\n",
    "[Link to built in Python Functions](https://docs.python.org/3/library/functions.html \"Built-in Functions\")<br/>\n",
    "[Link to more data structure methods and explanations](https://docs.python.org/3/tutorial/datastructures.html \"Python Datastructures\")<br/>\n",
    "[Link to a great article about analyzing games](https://gamedesignconcepts.wordpress.com/2009/07/06/level-3-formal-elements-of-games/ \"Game Analysis Help\")<br/>\n",
    "[The Game Analysis Form](https://docs.google.com/document/d/1orjKWorOqr6JKB45zACrEcz6HZRPcJCLNJX3vr9_WUU/edit?usp=sharing \"Its also available on our drive\")<br/>"
   ],
   "metadata": {}
  }
 ],
 "metadata": {
  "kernelspec": {
   "display_name": "Python 3",
   "language": "python",
   "name": "python3"
  },
  "language_info": {
   "codemirror_mode": {
    "name": "ipython",
    "version": 3
   },
   "file_extension": ".py",
   "mimetype": "text/x-python",
   "name": "python",
   "nbconvert_exporter": "python",
   "pygments_lexer": "ipython3",
   "version": "3.7.3"
  }
 },
 "nbformat": 4,
 "nbformat_minor": 2
}