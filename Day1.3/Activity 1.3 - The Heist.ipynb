{
 "cells": [
  {
   "cell_type": "markdown",
   "source": [
    "# Activity 1.3 - The Heist\n",
    "\n",
    "Welcome to the Heist!! You are attempting to hack into a vault containing a powerful secret... You will be given a series of tasks to complete using the coding principles we've gone over in class. Successful completion of each task will yield a character of the vault's access key. There are 4 characters to unlock, and they will not be given to you in the correct order."
   ],
   "metadata": {}
  },
  {
   "cell_type": "markdown",
   "source": [
    "<img src=\"ArtAssets3/hack.jpg\">"
   ],
   "metadata": {}
  },
  {
   "cell_type": "markdown",
   "source": [
    "Once you have the access key, you must enter it into the vault by using the following command:\n",
    "\n",
    "`heist.access(password)`\n",
    "\n",
    "Where you replace the word password in the parenthesis with your attempt. In fact, we will be passing variables into methods like this multiple times throughout the challenge.\n",
    "\n",
    "Will you be the first group to finish and unlock the vault's secret???"
   ],
   "metadata": {}
  },
  {
   "cell_type": "markdown",
   "source": [
    "## Getting Started\n",
    "\n",
    "**DO NOT OPEN ANY OF THE .py FILES!**\n",
    "\n",
    "I've organized this page for you with different blocks for each task. One is a place for you to take notes, and the other is a place to run your code.\n",
    "\n",
    "I've given you the code to gain access to the system. Run the line below to hack in and get started."
   ],
   "metadata": {}
  },
  {
   "cell_type": "code",
   "execution_count": 1,
   "source": [
    "import _src.heist as heist\r\n",
    "heist.start()"
   ],
   "outputs": [
    {
     "output_type": "stream",
     "name": "stdout",
     "text": [
      "\n",
      "Welcome to the Heist!! You are attempting to hack into a vault containing a powerful secret...\n",
      "You will be given a series of tasks to complete using the coding principles we've gone over in class.\n",
      "\n",
      "Successful completion of each task will yield a character of the vault's access key. They are not given in order.\n",
      "Once you have collected all 4 characters, you must find the correct order of them to access the vault and complete the hack.\n",
      "\n",
      "For initializing the first system, you will be rewarded a character.\n",
      ".\n",
      "\n",
      ".\n",
      "\n",
      ".\n",
      "\n",
      "The first character is &\n",
      "\n",
      "To access the next task, enter the following command: heist.loops.start()\n"
     ]
    }
   ],
   "metadata": {}
  },
  {
   "cell_type": "markdown",
   "source": [
    "### Task 2:\n",
    "\n",
    "**Notes:**"
   ],
   "metadata": {}
  },
  {
   "cell_type": "code",
   "execution_count": 7,
   "source": [
    "heist.loops.start()\r\n",
    "for i in range(0,1002):\r\n",
    "    heist.loops.hack()\r\n"
   ],
   "outputs": [
    {
     "output_type": "stream",
     "name": "stdout",
     "text": [
      "This firewall can be surpassed by brute force. To do so, you must call the following function 1001 times:\n",
      "\n",
      "hack()\n",
      "\n",
      "However, you must figure out the proper syntax for calling this function. Good Luck!\n",
      "Congratulations! You've successfully hacked once. Now you need to hack 1000 more times...\n",
      "\n",
      "That's 100 hacks... 10% complete\n",
      "\n",
      "20.0% complete...\n",
      "30.0% complete...\n",
      "40.0% complete...\n",
      "50.0% complete...\n",
      "60.0% complete...\n",
      "70.0% complete...\n",
      "80.0% complete...\n",
      "90.0% complete...\n",
      "Task completed. The next characer: 5\n",
      "For your next task, run heist.numberPatch.start()\n",
      "For your next task, run heist.numberPatch.start()\n"
     ]
    }
   ],
   "metadata": {}
  },
  {
   "cell_type": "markdown",
   "source": [
    "### Task 3: \n",
    "\n",
    "**Notes:**"
   ],
   "metadata": {}
  },
  {
   "cell_type": "code",
   "execution_count": 6,
   "source": [
    "index = 2\r\n",
    "\r\n",
    "while heist.fuseBypass.test(index):\r\n",
    "    index *= 2\r\n",
    "heist.fuseBypass.bypass()\r\n",
    "\r\n",
    "\r\n",
    "\r\n"
   ],
   "outputs": [
    {
     "output_type": "stream",
     "name": "stdout",
     "text": [
      "Nothing happened at 2.\n",
      "\n",
      "Nothing happened at 4.\n",
      "\n",
      "Nothing happened at 8.\n",
      "\n",
      "Nothing happened at 16.\n",
      "\n",
      "Nothing happened at 32.\n",
      "\n",
      "Nothing happened at 64.\n",
      "\n",
      "Nothing happened at 128.\n",
      "\n",
      "Nothing happened at 256.\n",
      "\n",
      "Nothing happened at 512.\n",
      "\n",
      "You blew fuse 1024\n",
      "\n",
      "Unauthorized access detected. Fuse bypass incorrect. Reseting system...\n"
     ]
    }
   ],
   "metadata": {}
  },
  {
   "cell_type": "markdown",
   "source": [
    "### Task 4:\r\n",
    "\r\n",
    "**Notes:**"
   ],
   "metadata": {}
  },
  {
   "cell_type": "code",
   "execution_count": 23,
   "source": [
    "# y7&5\r\n",
    "import random\r\n",
    "key = \"\"\r\n",
    "scramble = \"Y7&5GL8T\"\r\n",
    "egg = (list(scramble))\r\n",
    "fry = ''.join(egg)\r\n",
    "while not heist.access(fry):\r\n",
    "    random.shuffle(egg)\r\n",
    "    fry = ''.join(egg)\r\n",
    "    \r\n"
   ],
   "outputs": [
    {
     "output_type": "stream",
     "name": "stdout",
     "text": [
      "Password authentication complete...\n",
      "Retrieving data...\n",
      ".\n",
      "\n",
      ".\n",
      "\n",
      ".\n",
      "\n",
      "\n",
      "Congratulations! You've successfully unlocked the vault. Don't spoil the Rickroll for anyone else ;)\n"
     ]
    }
   ],
   "metadata": {}
  },
  {
   "cell_type": "code",
   "execution_count": null,
   "source": [],
   "outputs": [],
   "metadata": {}
  },
  {
   "cell_type": "markdown",
   "source": [
    "### Enter Acess Key:\n",
    "\n",
    "**Notes:**"
   ],
   "metadata": {}
  },
  {
   "cell_type": "code",
   "execution_count": null,
   "source": [],
   "outputs": [],
   "metadata": {}
  },
  {
   "cell_type": "code",
   "execution_count": null,
   "source": [],
   "outputs": [],
   "metadata": {}
  },
  {
   "cell_type": "code",
   "execution_count": null,
   "source": [],
   "outputs": [],
   "metadata": {}
  }
 ],
 "metadata": {
  "kernelspec": {
   "display_name": "Python 3",
   "language": "python",
   "name": "python3"
  },
  "language_info": {
   "codemirror_mode": {
    "name": "ipython",
    "version": 3
   },
   "file_extension": ".py",
   "mimetype": "text/x-python",
   "name": "python",
   "nbconvert_exporter": "python",
   "pygments_lexer": "ipython3",
   "version": "3.7.3"
  }
 },
 "nbformat": 4,
 "nbformat_minor": 2
}