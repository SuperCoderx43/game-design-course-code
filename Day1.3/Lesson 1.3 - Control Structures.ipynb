{
 "cells": [
  {
   "cell_type": "markdown",
   "source": [
    "# Lesson 1.3 - Control Structures\n",
    "\n",
    "Last lesson, we worked with variables and operations to manipulate them, and yesterday you put together some massive combos to inflict upon our poor Practice Dummy. However, to test your combos, you had to do what I'll call the Brute Force method, trying things over and over and over again until you get the results that you want. This required an astounding amount of coding to get simple results (though you were likely only executing one line at a time). But there is an easier way. \n",
    "\n",
    "## Introducing Control Structures:\n",
    "\n",
    "Control Structures allow you to perform complex operations with relative ease. This is the \"thinking\" part of the program. We will employ the operations and variables we learned yesterday, along with the Boolean logic operators you learned about in Activity 1 to manipulate these control structures to give the desired outcome. \n",
    "\n",
    "Most of you are already familiar with the concepts of control structures. We will discuss the two main categories today, conditionals and loops. To learn about how to use these control structures in Python, we will be creating the classic game: RoShamBo (also known as Rock, Paper, Scissors). For a quick refresher on how the game is played, here's an excellent video by the greatest Rock, Paper, Scissors player of all time: <a href=\"http://www.youtube.com/watch?feature=player_embedded&v=nKm8LXwKnbs\n",
    "\" target=\"_blank\">Master Roshambollah</a>"
   ],
   "metadata": {}
  },
  {
   "cell_type": "markdown",
   "source": [
    "## Conditionals: If and Try\n",
    "\n",
    "Conditionals ask a question. In the case of an `If` statement, the question is a `True` or `False` question, meaning the argument is a `boolean`. In the case of a `Try` statement, the questions is `will this cause an error`."
   ],
   "metadata": {}
  },
  {
   "cell_type": "markdown",
   "source": [
    "## If statement \n",
    "\n",
    "The first part of the if control structure is the `if :` statement itself. It outlines a condition that must be met in order to execute the code within it. Otherwise, the program ignores that block of code and moves on.\n",
    "\n",
    "`if (variable comparison condition):`\n",
    "\n",
    "Let's think of a question that we could ask using `if` in RoShamBo?"
   ],
   "metadata": {}
  },
  {
   "cell_type": "code",
   "execution_count": 1,
   "source": [
    "player_one = 'rock'\r\n",
    "player_two = 'scissors'\r\n",
    "\r\n",
    "## Implement the if statement here.\r\n",
    "if player_one == 'rock' and player_two == 'scissors':\r\n",
    "    print('Player 1 wins!')"
   ],
   "outputs": [
    {
     "output_type": "stream",
     "name": "stdout",
     "text": [
      "Player 1 wins!\n"
     ]
    }
   ],
   "metadata": {}
  },
  {
   "cell_type": "markdown",
   "source": [
    "A couple things to note about Python, here:\n",
    "\n",
    "    1. The colon (`:`) denotes the end of the statement line\n",
    "    1. The indent (4 spaces or a tab) denotes the block, or the stuff inside the `if`\n",
    "    1. The () around the conditionals is optional\n",
    "\n",
    "**else**\n",
    "Of course, we can also do something if the `if` statement isn't executed. Like other languages, this uses an `else` statement. Let's add an `else` to our example above:"
   ],
   "metadata": {}
  },
  {
   "cell_type": "code",
   "execution_count": 2,
   "source": [
    "player_one = 'rock'\r\n",
    "player_two = 'scissors'\r\n",
    "\r\n",
    "## Implement the if statement here.\r\n",
    "if player_one == \"paper\":\r\n",
    "    print(\"asdfasf\")\r\n",
    "else:\r\n",
    "    print('Player 1 wins')"
   ],
   "outputs": [
    {
     "output_type": "stream",
     "name": "stdout",
     "text": [
      "Player 1 wins\n"
     ]
    }
   ],
   "metadata": {}
  },
  {
   "cell_type": "markdown",
   "source": [
    "Lastly, we can ask more than one question in the same statement using the `elif` statment. This works just like an `if`. Let's complete our example with some `elif`s to give us the full functionality of RoShamBo given any choice of rock, paper, or scissors by our players. We'll do a 10 minute breakout session for this. Here's the outline of what we want."
   ],
   "metadata": {}
  },
  {
   "cell_type": "code",
   "execution_count": null,
   "source": [
    "player_one = 'rock'\r\n",
    "player_two = 'scissors'\r\n",
    "\r\n",
    "## Implement the if statement here.\r\n"
   ],
   "outputs": [],
   "metadata": {}
  },
  {
   "cell_type": "markdown",
   "source": [
    "**Bonus! Simple AI for our game**\n",
    "\n",
    "To test the code you just wrote, let's implement an AI for player_two. We'll rename this to `computer_player` so things make a bit more sense. To do this, we will use a helpful module call `numpy`! We probably need to download `numpy` to do this, so open your console by selecting `Terminal -> New Terminal`, or click `ctrl/cmd + shift + ~` and execute the following commands:\n",
    "\n",
    "Windows: \n",
    "\n",
    "1. `py -m pip --version`. If this comes back with showing a location for pip, then run the next command, otherwise run `py -m ensurepip --default-pip`\n",
    "1. `py -m pip install --upgrade pip setup wheel` This upgrades what we need to make pip work properly\n",
    "1. `py -m pip install numpy`\n",
    "\n",
    "Mac:\n",
    "\n",
    "1. Since we used Homebrew to install Python, we already have `pip`. Simply run the following command: `python3 pip install numpy`\n",
    "\n",
    "We will use numpy to generate some random numbers for us, among other operations later. We do this by using an `import` statement"
   ],
   "metadata": {}
  },
  {
   "cell_type": "code",
   "execution_count": 4,
   "source": [
    "import numpy as np\r\n",
    "\r\n",
    "player_one = 'rock' # This is where you'll choose your choice for the game\r\n",
    "c_index = np.random.randint(0,3)\r\n",
    "computer_player = \"\"\r\n",
    "\r\n",
    "def Describe():\r\n",
    "    print(\"Computer: \" + computer_player)\r\n",
    "    print(\"Player: \" + player_one)\r\n",
    "\r\n",
    "# Implement random choices here\r\n",
    "if c_index == 0:\r\n",
    "    computer_player = 'rock'\r\n",
    "elif c_index == 1:\r\n",
    "    computer_player = 'paper'\r\n",
    "else:\r\n",
    "    computer_player = 'scissors'\r\n",
    "\r\n",
    "# Copy/paste the code you wrote above\r\n",
    "if player_one == computer_player:\r\n",
    "    Describe()\r\n",
    "    print(\"Tie\")\r\n",
    "elif player_one == 'rock' and computer_player == 'scissors':\r\n",
    "    Describe()\r\n",
    "    print('Player 1 wins!')\r\n",
    "elif player_one == 'rock' and computer_player == 'paper':\r\n",
    "    Describe()\r\n",
    "    print(\"Computer wins\")\r\n",
    "elif player_one == 'scissors' and computer_player == 'paper':\r\n",
    "    Describe()\r\n",
    "    print('Player 1 wins!')\r\n",
    "elif player_one == 'scissors' and computer_player == 'rock':\r\n",
    "    Describe()\r\n",
    "    print(\"Computer wins\")\r\n",
    "elif player_one == 'paper' and computer_player == 'rock':\r\n",
    "    Describe()\r\n",
    "    print(\"Player 1 wins\")\r\n",
    "elif player_one == 'paper' and computer_player == 'scissors':\r\n",
    "    Describe()\r\n",
    "    print(\"Computer Wins\")"
   ],
   "outputs": [
    {
     "output_type": "stream",
     "name": "stdout",
     "text": [
      "Computer: rock\n",
      "Player: rock\n",
      "Tie\n"
     ]
    }
   ],
   "metadata": {}
  },
  {
   "cell_type": "markdown",
   "source": [
    "## Debugging\n",
    "\n",
    "Despite our best intentions, sometimes our code doesn't work quite how we expect it to. Sometimes things will break so badly, python will tell you there's an error. Sometimes, they won't break, but your code won't do what you expect it to do. Let's look at the example below to see what I mean:"
   ],
   "metadata": {}
  },
  {
   "cell_type": "code",
   "execution_count": null,
   "source": [
    "choices = ['rock', 'paper', 'scissors']\r\n",
    "\r\n",
    "player_one = 'rock'\r\n",
    "computer_player = 2\r\n",
    "\r\n",
    "if player_one == 'rock':\r\n",
    "    if player_two == 'scissors':\r\n",
    "        print('Player One Wins!')\r\n",
    "    else:\r\n",
    "        print('Player Two did not play \"scissors\"')\r\n",
    "else:\r\n",
    "    print('Player One did not play \"rock\"')"
   ],
   "outputs": [],
   "metadata": {}
  },
  {
   "cell_type": "markdown",
   "source": [
    "What is the error above? How can I fix it?"
   ],
   "metadata": {}
  },
  {
   "cell_type": "markdown",
   "source": [
    "## Catching errors\n",
    "\n",
    "It is useful to include statements within our code to let us know where we are and if we have an error or unexpected outcome. Remember in yesterday's activity? If you put an invalid combo together, instead of throwing errors, the code told you what you had done wrong and what you needed to modify. This was because I built in checks to make sure you were following the directions. If you did manage to get an error from Python, congrats, you thought of some way to break the code that I didn't...\n",
    "\n",
    "So how would this look in our code? Let's modify the above example to demonstrate this:"
   ],
   "metadata": {}
  },
  {
   "cell_type": "code",
   "execution_count": null,
   "source": [
    "choices = ['rock', 'paper', 'scissors']\r\n",
    "\r\n",
    "player_one = 'rock'\r\n",
    "computer_player = 2\r\n",
    "\r\n",
    "if player_one in choices and computer_player in choices:\r\n",
    "    if player_one == 'rock':\r\n",
    "        if player_two == 'scissors':\r\n",
    "            print('Player One Wins!')\r\n",
    "        else:\r\n",
    "            print('Player Two did not play \"scissors\"')\r\n",
    "    else:\r\n",
    "        print('Player One did not play \"rock\"')\r\n",
    "else: \r\n",
    "    print('Invalid choice for player_one or computer_player')"
   ],
   "outputs": [],
   "metadata": {}
  },
  {
   "cell_type": "markdown",
   "source": [
    "Notice that this code is logically equivalent to the code in the examples above. However, I've included an extra line in my `if :` statement to check that our choices are valid. This may seem silly right now, because we know exactly what we're supposed to input into the game, but it becomes important when we're accepting input from others.\n",
    "\n",
    "<img src='ArtAssets3/catsUI.png' alt='catsUI'>\n",
    "\n",
    "One additional callout - the print statements above made it really easy for us to tell at which step the code was behaving unexpectedly. I encourage you to use them often when debugging.\n",
    "\n",
    "Now, let's unleash the chaos and let the user choose their throw!"
   ],
   "metadata": {}
  },
  {
   "cell_type": "markdown",
   "source": [
    "## The input() statement\n",
    "\n",
    "`input()` is the simplest way to get something from the user in python. It displays a box for the user to type in, and then returns the contents of the box as a string:"
   ],
   "metadata": {}
  },
  {
   "cell_type": "code",
   "execution_count": 5,
   "source": [
    "input(\"Type anything, then press enter.\")"
   ],
   "outputs": [
    {
     "output_type": "execute_result",
     "data": {
      "text/plain": [
       "'poo'"
      ]
     },
     "metadata": {},
     "execution_count": 5
    }
   ],
   "metadata": {}
  },
  {
   "cell_type": "markdown",
   "source": [
    "Usually, it is best to set a variable equal to your input instead of using raw input"
   ],
   "metadata": {}
  },
  {
   "cell_type": "code",
   "execution_count": 6,
   "source": [
    "myInput = input(\"Type anything, then press enter. \")\r\n",
    "print(\"You have typed: \"+myInput)"
   ],
   "outputs": [
    {
     "output_type": "stream",
     "name": "stdout",
     "text": [
      "You have typed: yoked\n"
     ]
    }
   ],
   "metadata": {}
  },
  {
   "cell_type": "markdown",
   "source": [
    "**Task:** Let's take a few minutes to add an input statement to our game to let the user choose if they want to play \"rock, paper, or scissors\". Make sure your code is robust enough to handle the user putting in the wrong input."
   ],
   "metadata": {}
  },
  {
   "cell_type": "code",
   "execution_count": 7,
   "source": [
    "# Copy/paste the code we've been working with here and expand it to include user input and error checking that the user input the correct thing!\r\n",
    "import numpy as np\r\n",
    "\r\n",
    "choices = ['rock', 'paper', 'scissors']\r\n",
    "player_one = input(\"Please Choose 'rock', 'paper', or 'scissors\")\r\n",
    "while player_one not in choices:\r\n",
    "    player_one = input(\"Please Choose 'rock', 'paper', or 'scissors: \")\r\n",
    "\r\n",
    "c_index = np.random.randint(0,3)\r\n",
    "computer_player = \"\"\r\n",
    "\r\n",
    "def Describe():\r\n",
    "    print(\"Computer: \" + computer_player)\r\n",
    "    print(\"Player: \" + player_one)\r\n",
    "\r\n",
    "# Implement random choices here\r\n",
    "computer_player = choices[c_index]\r\n",
    "\r\n",
    "# Copy/paste the code you wrote above\r\n",
    "if player_one == computer_player:\r\n",
    "    Describe()\r\n",
    "    print(\"Tie\")\r\n",
    "elif player_one == 'rock' and computer_player == 'scissors':\r\n",
    "    Describe()\r\n",
    "    print('Player 1 wins!')\r\n",
    "elif player_one == 'rock' and computer_player == 'paper':\r\n",
    "    Describe()\r\n",
    "    print(\"Computer wins\")\r\n",
    "elif player_one == 'scissors' and computer_player == 'paper':\r\n",
    "    Describe()\r\n",
    "    print('Player 1 wins!')\r\n",
    "elif player_one == 'scissors' and computer_player == 'rock':\r\n",
    "    Describe()\r\n",
    "    print(\"Computer wins\")\r\n",
    "elif player_one == 'paper' and computer_player == 'rock':\r\n",
    "    Describe()\r\n",
    "    print(\"Player 1 wins\")\r\n",
    "elif player_one == 'paper' and computer_player == 'scissors':\r\n",
    "    Describe()\r\n",
    "    print(\"Computer Wins\")"
   ],
   "outputs": [
    {
     "output_type": "stream",
     "name": "stdout",
     "text": [
      "Computer: scissors\n",
      "Player: rock\n",
      "Player 1 wins!\n"
     ]
    }
   ],
   "metadata": {}
  },
  {
   "cell_type": "markdown",
   "source": [
    "### The *try: except:* statement\n",
    "\n",
    "There is another conditional statement in python, called the `try:` statement, which is built to handle errors like those we might encounter from silly user input. It attmepts what is contained within the `try`, and if it returns an error, moves to the `except:` statement. Let me show you a simple example, comparing an intentionally incorrect statement to a `try: except:` statement:"
   ],
   "metadata": {}
  },
  {
   "cell_type": "code",
   "execution_count": null,
   "source": [
    "print(\"The player chose \"+str(player_choice))"
   ],
   "outputs": [],
   "metadata": {}
  },
  {
   "cell_type": "code",
   "execution_count": null,
   "source": [
    "# player_choice = 'rock'\r\n",
    "\r\n",
    "try:\r\n",
    "    print(\"The player chose \"+str(player_choice))\r\n",
    "except:\r\n",
    "    print(\"The player hasn't chosen yet\")"
   ],
   "outputs": [],
   "metadata": {}
  },
  {
   "cell_type": "markdown",
   "source": [
    "After we defined `rock_weight`, the execution of the `try` statement was successful. Now that the `try:` statement executed as intended, or perhaps more effectively that we made it past a certain `except:` statement, we can do our level comparisons from before by using an `else:`. Just like with `if:` the `else` on an `except:` will execute if the `except:` doesn't. \n",
    "\n",
    "There is also a `finally:` statement, that executes at the end of the `try:` block whether the `try:`, `except:`, or `else:` has happened. You can think of it as \"summing up\" the try statement.\n",
    "\n",
    "How is this helpful for our game? Well, if the player doesn't input what we expect, we may want to throw an error and handle that error istead of hiding it behind an `if` statement. We can do this using the `raise` statement, that raises what's called an `Exception` that causes the `try` statement to fail and move on to the `if`. It looks something like this:"
   ],
   "metadata": {}
  },
  {
   "cell_type": "code",
   "execution_count": null,
   "source": [
    "player_choice = 'Rock'\r\n",
    "\r\n",
    "try:\r\n",
    "    if another_player_choice in ['rock','paper','scissors']:\r\n",
    "        print(\"The player chose \"+str(player_choice))\r\n",
    "    else:\r\n",
    "        raise Exception('Player Choice')\r\n",
    "except:\r\n",
    "    print(\"The player hasn't chosen an allowed input!\")\r\n",
    "else:\r\n",
    "    # Copy/paste your game code here\r\n",
    "    print(\"Now we can play rock, paper, scissors!\")\r\n",
    "finally: \r\n",
    "    print('Play Again?')"
   ],
   "outputs": [],
   "metadata": {}
  },
  {
   "cell_type": "markdown",
   "source": [
    "**Task:** Now you try! Using the above example, add a `try` statement to your game, raising an exception when checking a player's input. You have 5 minutes in a breakout room!"
   ],
   "metadata": {}
  },
  {
   "cell_type": "code",
   "execution_count": 9,
   "source": [
    "# Write your code here\r\n",
    "import numpy as np\r\n",
    "\r\n",
    "choices = ['rock', 'paper', 'scissors']\r\n",
    "\r\n",
    "c_index = np.random.randint(0,3)\r\n",
    "computer_choice = choices[c_index]\r\n",
    "\r\n",
    "player_choice = input(\"Choose an input: 'rock', 'paper', 'scissors'\")\r\n",
    "\r\n",
    "def Describe():\r\n",
    "    print(\"Player: \" + player_choice)\r\n",
    "    print(\"Computer: \" + computer_choice)\r\n",
    "    \r\n",
    "\r\n",
    "try:\r\n",
    "    if player_choice in choices:\r\n",
    "        print(\"The player chose \" + str(player_choice))\r\n",
    "    else:\r\n",
    "        raise Exception(\"Player Choice\")\r\n",
    "except:\r\n",
    "    print(\"Player has not chosen an allowed answer\")\r\n",
    "else:\r\n",
    "    if player_one == computer_player:\r\n",
    "        Describe()\r\n",
    "        print(\"Tie\")\r\n",
    "    elif player_one == 'rock' and computer_player == 'scissors':\r\n",
    "        Describe()\r\n",
    "        print('Player 1 wins!')\r\n",
    "    elif player_one == 'rock' and computer_player == 'paper':\r\n",
    "        Describe()\r\n",
    "        print(\"Computer wins\")\r\n",
    "    elif player_one == 'scissors' and computer_player == 'paper':\r\n",
    "        Describe()\r\n",
    "        print('Player 1 wins!')\r\n",
    "    elif player_one == 'scissors' and computer_player == 'rock':\r\n",
    "        Describe()\r\n",
    "        print(\"Computer wins\")\r\n",
    "    elif player_one == 'paper' and computer_player == 'rock':\r\n",
    "        Describe()\r\n",
    "        print(\"Player 1 wins\")\r\n",
    "    elif player_one == 'paper' and computer_player == 'scissors':\r\n",
    "        Describe()\r\n",
    "        print(\"Computer Wins\")\r\n",
    "finally:\r\n",
    "    print(\"Play Again?\")\r\n"
   ],
   "outputs": [
    {
     "output_type": "stream",
     "name": "stdout",
     "text": [
      "The player chose rock\n",
      "Player: rock\n",
      "Computer: paper\n",
      "Player 1 wins!\n",
      "Play Again?\n"
     ]
    }
   ],
   "metadata": {}
  },
  {
   "cell_type": "markdown",
   "source": [
    "## Loops\n",
    "Now, our game of RoShamBo is working, but if we mess up and input or want to keep playing, we have to run it again to play again. Thus, we'll add loops to our game to facilitate this. \n",
    "\n",
    "There are 2 types of loops in Python (like most other languages): the `for` loop and the `while` loop.\n"
   ],
   "metadata": {}
  },
  {
   "cell_type": "markdown",
   "source": [
    "### While Loops\n",
    "We will first talk about `while` loops - the most useful for our RoShamBo game and most closely related to the conditional statements we discussed above. First, let's examine what a `while` loop looks like:\n",
    "\n",
    "```python\n",
    "while condition:\n",
    "    do stuff\n",
    "```\n",
    "\n",
    "So what does this do? Just like the `if` statement, a `while` loop will execute whatever is inside it (the indented `do stuff`) as long as that condition is `True`. However, unlike `if` statements, the `while` loop will **repeat** whatever is inside it until the condition **changes** to `False`. \n",
    "\n",
    "This means that sometimes, we will make a mistake and create a loop we can never escape... That's ok, as we can kill our code (click the STOP on the top left of your notebook). If your kernal stops working properly (top right), then click the RESTART button next to the STOP button.\n",
    "\n",
    "Now, let's write our first `while` loop."
   ],
   "metadata": {}
  },
  {
   "cell_type": "code",
   "execution_count": 10,
   "source": [
    "# Write a while loop here that prints all the numbers between 0-9\r\n",
    "i = 0\r\n",
    "while i < 10:\r\n",
    "    print(i)\r\n",
    "    i += 1"
   ],
   "outputs": [
    {
     "output_type": "stream",
     "name": "stdout",
     "text": [
      "0\n",
      "1\n",
      "2\n",
      "3\n",
      "4\n",
      "5\n",
      "6\n",
      "7\n",
      "8\n",
      "9\n"
     ]
    }
   ],
   "metadata": {}
  },
  {
   "cell_type": "markdown",
   "source": [
    "### while and else\n",
    "Just like the `if :` statement in Lesson 3, the `while():` loop is also a conditional statement. Thus, you can use `else:` statement with a `while():` loop, just like you used it in the `if :` statement. That means when the `while():` statement is false, the code will execute the `else:` part of the statement. It will also move to the `else:` part of the code if the condition isn't met at the start.\n",
    "\n",
    "Let's see a quick example:"
   ],
   "metadata": {}
  },
  {
   "cell_type": "code",
   "execution_count": 11,
   "source": [
    "# Write a while/else loop here that prints the sum of the numbers 0-9.\r\n",
    "i = 0\r\n",
    "while i < 9:\r\n",
    "    print(i)\r\n",
    "    i += 1\r\n",
    "else:\r\n",
    "    print(9)"
   ],
   "outputs": [
    {
     "output_type": "stream",
     "name": "stdout",
     "text": [
      "0\n",
      "1\n",
      "2\n",
      "3\n",
      "4\n",
      "5\n",
      "6\n",
      "7\n",
      "8\n",
      "9\n"
     ]
    }
   ],
   "metadata": {}
  },
  {
   "cell_type": "markdown",
   "source": [
    "### Entry validation\n",
    "**Task:** Let's go back to our first problem statement - we want the user to keep playing RoShamBo even if they enter an invalid entry. How can we use a `while/else` loop to do that? We'll breakout into small groups to try this for about 5 min. "
   ],
   "metadata": {}
  },
  {
   "cell_type": "code",
   "execution_count": 14,
   "source": [
    "# Copy/paste your RoShamBo code here, then add a while loop to catch errors and allow for a player to correct their entry\r\n",
    "import numpy as np\r\n",
    "\r\n",
    "choices = ['rock', 'paper', 'scissors']\r\n",
    "\r\n",
    "c_index = np.random.randint(0,3)\r\n",
    "computer_choice = choices[c_index]\r\n",
    "\r\n",
    "player_choice = input(\"Choose an input: 'rock', 'paper', 'scissors'\")\r\n",
    "while player_choice not in choices:\r\n",
    "    player_one = input(\"Please choose 'rock', 'paper', or 'scissors: \")\r\n",
    "\r\n",
    "def Describe():\r\n",
    "    print(\"Player: \" + player_choice)\r\n",
    "    print(\"Computer: \" + computer_choice)\r\n",
    "    \r\n",
    "\r\n",
    "if player_one == computer_player:\r\n",
    "    Describe()\r\n",
    "    print(\"Tie\")\r\n",
    "elif player_one == 'rock' and computer_player == 'scissors':\r\n",
    "    Describe()\r\n",
    "    print('Player 1 wins!')\r\n",
    "elif player_one == 'rock' and computer_player == 'paper':\r\n",
    "    Describe()\r\n",
    "    print(\"Computer wins\")\r\n",
    "elif player_one == 'scissors' and computer_player == 'paper':\r\n",
    "    Describe()\r\n",
    "    print('Player 1 wins!')\r\n",
    "elif player_one == 'scissors' and computer_player == 'rock':\r\n",
    "    Describe()\r\n",
    "    print(\"Computer wins\")\r\n",
    "elif player_one == 'paper' and computer_player == 'rock':\r\n",
    "    Describe()\r\n",
    "    print(\"Player 1 wins\")\r\n",
    "elif player_one == 'paper' and computer_player == 'scissors':\r\n",
    "    Describe()\r\n",
    "    print(\"Computer Wins\")"
   ],
   "outputs": [
    {
     "output_type": "stream",
     "name": "stdout",
     "text": [
      "Player: paper\n",
      "Computer: scissors\n",
      "Player 1 wins!\n"
     ]
    }
   ],
   "metadata": {}
  },
  {
   "cell_type": "markdown",
   "source": [
    "### continue and break\n",
    "There are some tools for loops that allow us to skip a step in a loop or exit a loop early. These are the `continue` and `break` statements, respectively.\n",
    "\n",
    "The `continue` statement skips all the code below it and goes back to the top of the loop, executing the next iteration of the loop.\n",
    "\n",
    "The `break` statement exits the loop completely.\n",
    "\n",
    "Let's see an example (outside of our RoShamBo game):"
   ],
   "metadata": {}
  },
  {
   "cell_type": "code",
   "execution_count": null,
   "source": [
    "# Create a while loop that prints all the even numbers between 0-9\r\n",
    "\r\n",
    "count = 0\r\n",
    "while True:"
   ],
   "outputs": [],
   "metadata": {}
  },
  {
   "cell_type": "markdown",
   "source": [
    "### The Game Loop\n",
    "We will be wrapping our games in a `while` loop here on out, so users can keep playing until they want to stop. Additionally, this is important for when we start using Pygame next week, as we will be establishing \"Frame Rates\" and executing the same batch of code many times a second!\n",
    "\n",
    "**Task:** Let's add a `while/else` loop to our RoShamBo game, leveraging `continue/break` to allow the player to keep playing until they want to stop. I suggest you add prompts like \"Play Again?\" once the game is over. If you have extra time, add some way to track your scores. We'll breakout into groups for 10 minutes to try to complete the task.\n",
    "\n",
    "*Hint:* Create a secret command letter, like `q`, that you can enter in any field to quit the game early (a good use of a `break`). That way, while debugging, you don't have to go through all the steps of your game before you can go back and fix whatever isn't working!"
   ],
   "metadata": {}
  },
  {
   "cell_type": "code",
   "execution_count": null,
   "source": [
    "# Copy/paste your RoShamBo code here and add the Game Loop"
   ],
   "outputs": [],
   "metadata": {}
  },
  {
   "cell_type": "markdown",
   "source": [
    "### For loops\n",
    "\n",
    "For loops are primarily used for doing something a fixed number of times, like operating on each member of a list or dictionary. While `for` loops are not terribly useful for our game today, we will take a moment to learn about them and their syntax with a sneak preview of what we'll be working on tomorrow - Escape the Island. \n",
    "\n",
    "Let's say we're marooned on a deserted island, and have found a list called treasureChest while exploring! We want to add all the items in the treasure chest to our inventory. We can use a `for` loop to do this.\n",
    "\n",
    "<img src = \"ArtAssets3/marooned.jpg\" width = 800> \n",
    "<center>Doesn't look so bad from the boat, does it?<br/>https://www.publicdomainpictures.net/en/view-image.php?image=153296&picture=tropical-island</center>"
   ],
   "metadata": {}
  },
  {
   "cell_type": "code",
   "execution_count": null,
   "source": [
    "inventory = []\r\n",
    "treasureChest = [\"Gold Dubloon\", \"Gold Dubloon\", \"Eye Patch\", \"Peg Leg\"]\r\n",
    "\r\n",
    "print(\"You have \"+str(inventory)+\" in your inventory before looting the treasure chest\")\r\n",
    "\r\n",
    "#For Loop goes here\r\n",
    "for item in treasureChest:\r\n",
    "    inventory.append(item)\r\n",
    "\r\n",
    "print(\"Now you have \"+str(inventory)+\" in your inventory. We'll make a pirate out of you yet!\")"
   ],
   "outputs": [],
   "metadata": {}
  },
  {
   "cell_type": "markdown",
   "source": [
    "Unfortunately, we can't eat anything we've found in the chest, but at least we'll look the part of pirate as we starve! Maybe we'll find some food later.\n",
    "\n",
    "After we've looped through every item in the treasure chest, the loop goes back to the top, sees there's no items left, and says \"I'm done\" then exits the loop.\n",
    "\n",
    "If we are making a game, though, we have a small problem. What's left in the treasure chest?"
   ],
   "metadata": {}
  },
  {
   "cell_type": "code",
   "execution_count": null,
   "source": [
    "#What's in the treasureChest???\r\n",
    "print(treasureChest)"
   ],
   "outputs": [],
   "metadata": {}
  },
  {
   "cell_type": "markdown",
   "source": [
    "**Task:** If we've looted the chest, we must remove the items in the chest. How can we fix this? Try to empty the treasure chest after looting it below. We used the `list.append()` method to add items, you can use the `list.remove()` method to remove items. Let's take 2 minutes in a breakout room to try to implement this.\n",
    "\n",
    "*Warning! If you modify the treasureChest as you are looping through it, you will not loop correctly! Specifically, the loop will not work as many times as you want it to, because the loop exits when it hits the last index of the items in the list. You will have to use two loops here, one to loot the chest, and the next to empty the chest*"
   ],
   "metadata": {}
  },
  {
   "cell_type": "code",
   "execution_count": null,
   "source": [
    "inventory = []\r\n",
    "treasureChest = [\"Gold Dubloon\", \"Gold Dubloon\", \"Eye Patch\", \"Peg Leg\"]\r\n",
    "\r\n",
    "print(\"You have \"+str(inventory)+\" in your inventory before looting the treasure chest\")\r\n",
    "\r\n",
    "#Loot the treasureChest and empty the treasureChest here\r\n",
    "for item in treasureChest:\r\n",
    "# Add your code here. \r\n",
    "\r\n",
    "print(\"Now you have \"+str(inventory)+\" in your inventory, and there is \"+str(treasureChest)+\" left in the treasure chest\")"
   ],
   "outputs": [],
   "metadata": {}
  },
  {
   "cell_type": "markdown",
   "source": [
    "Unfortunately, you can't eat gold, and if we are going to survive on this deserted island, we'll need to find some food and water. \n",
    "\n",
    "<img src = \"ArtAssets3/pirateBitingCoin.jpg\" width = 600>\n",
    "<center>You can try, but you'll probably just end up with fewer teeth...<br/>https://www.gettyimages.com/detail/photo/pirate-biting-gold-coin-and-holding-gun-at-high-res-stock-photography/200530871-003</center>\n",
    "\n",
    "To do this, we will import the deserted Island into our code. The deserted Island contains a tuple full of items we can find if we search the island. Let's search the island's tuple *items* for \"Food\" and \"Water\"? When you find them, add them to your inventory. *Hint:* We'll need to use an `if :` statement as well."
   ],
   "metadata": {}
  },
  {
   "cell_type": "code",
   "execution_count": null,
   "source": [
    "import _src.desertedIsland as desertedIsland\r\n",
    "\r\n",
    "inventory = []\r\n",
    "\r\n",
    "print(\"You have \"+str(inventory)+\" in your inventory before searching the island\")\r\n",
    "\r\n",
    "# for loop to search the desertedIsland.items tuple and if statement to see if the item is Food or Water\r\n",
    "for item in desertedIsland.items:\r\n",
    "    # add your code here\r\n",
    "        \r\n",
    "print(\"You have found \"+str(inventory)+\" while searching the island\")\r\n",
    "\r\n",
    "if \"Food\" in inventory and \"Water\" in inventory:\r\n",
    "    print(\"You've found Food and Water! You'll survive another day\")\r\n",
    "else:\r\n",
    "    print(\"You didn't find Food and Water.... Try again!\")"
   ],
   "outputs": [],
   "metadata": {}
  },
  {
   "cell_type": "markdown",
   "source": [
    "### You choose the number\n",
    "\n",
    "You can also set the number of times a for loop executes, too. Let's say that the whole island is too big to search in one day. Maybe we only have time to search through 5 items each day. To do this, we will still use a `for:` loop:"
   ],
   "metadata": {}
  },
  {
   "cell_type": "code",
   "execution_count": null,
   "source": [
    "inventory = []\r\n",
    "\r\n",
    "print(\"You have \"+str(inventory)+\" in your inventory before searching the island\")\r\n",
    "\r\n",
    "#for loop to search the desertedIsland.items tuple and if statement to see if the item is Food or Water\r\n",
    "for i in range(5):\r\n",
    "    inventory.append(desertedIsland.items[i])\r\n",
    "        \r\n",
    "print(\"You have found \"+str(inventory)+\" while searching the island on the first day\")"
   ],
   "outputs": [],
   "metadata": {}
  },
  {
   "cell_type": "markdown",
   "source": [
    "If we run this code again, we will not find anything new. We will only search through the same five indices [0,1,2,3,4] over and over again. So how do we search the rest of the island?\n",
    "\n",
    "To fix this, we need to understand the `range()` function in the above `for:` loop. `range(N)` is actually making a list of elements starting at '0' and ending at 'N-1', so `range(5)` outputs [0,1,2,3,4]. We are then looping through every element of this list as x, just like we did for the `for item in treasureChest:` above. However, these items are numbers, not strings, and we can use them as indices for searching our desertedIsland tuple.\n",
    "\n",
    "This is a bit confusing, but should make more sense when we talk about how to change `range()`.\n",
    "\n",
    "**Defining a different starting point**\n",
    "I can include two numbers in `range()` to define a start and end point for my generated list. What do you think `range(2,7)` outputs?\n",
    "\n",
    "> range(2,7) = [2,3,4,5,6]\n",
    "\n"
   ],
   "metadata": {}
  },
  {
   "cell_type": "markdown",
   "source": [
    "Using this, we can search the next 5 items on the island for day 2. Notice I haven't declared `inventory = []` again so we can keep track of what we found on day one. If you run this code multiple times, however, funny things will happen:"
   ],
   "metadata": {}
  },
  {
   "cell_type": "code",
   "execution_count": null,
   "source": [
    "import _src.desertedIsland\r\n",
    "\r\n",
    "print(\"You have \"+str(inventory)+\" in your inventory starting Day 2 on the Island\")\r\n",
    "\r\n",
    "#for loop to search the desertedIsland.items tuple and if statement to see if the item is Food or Water\r\n",
    "for i in range(5, 10):\r\n",
    "    inventory.append(desertedIsland.items[i])\r\n",
    "        \r\n",
    "print(\"You have found \"+str(inventory)+\" while searching the island on the first two days\")"
   ],
   "outputs": [],
   "metadata": {}
  },
  {
   "cell_type": "markdown",
   "source": [
    "**Task:** Now that we know how to how to search for more than one day, how many days will it take us to search the whole island? What items will we find each day of our search? Use the empty lists below to answer these questions. We will use the remainder of class to complete this code in breakout rooms, and come back to discuss solutions in the last 5 minutes."
   ],
   "metadata": {}
  },
  {
   "cell_type": "code",
   "execution_count": null,
   "source": [
    "import _src.desertedIsland\r\n",
    "\r\n",
    "dayOneItems = []\r\n",
    "dayTwoItems = []\r\n",
    "dayThreeItems = []\r\n",
    "dayFourItems = []\r\n",
    "dayFiveItems = []\r\n",
    "#... add more day lists as needed. \r\n",
    "\r\n",
    "for item in desertedIsland.items:\r\n",
    "    if len(dayOneItems) < 5:\r\n",
    "        dayOneItems.append(item)\r\n",
    "    elif len(dayTwoItems) < 5:\r\n",
    "        dayTwoItems.append(item)\r\n",
    "    elif len(dayThreeItems) < 5:\r\n",
    "        dayThreeItems.append(item)\r\n",
    "    elif len(dayFourItems) < 5\r\n",
    "        dayFourItems.append(item)\r\n",
    "    elif len(dayFiveItems) < 5:\r\n",
    "        dayFiveItems.append(item)\r\n",
    "        \r\n",
    "\r\n",
    "#Your island searching code should go here\r\n",
    "\r\n",
    "print(\"On day one we found \"+str(dayOneItems))\r\n",
    "#Repeat statements like this to list out all the items you've found each day."
   ],
   "outputs": [],
   "metadata": {}
  },
  {
   "cell_type": "markdown",
   "source": [],
   "metadata": {}
  }
 ],
 "metadata": {
  "anaconda-cloud": {},
  "kernelspec": {
   "display_name": "Python 3",
   "language": "python",
   "name": "python3"
  },
  "language_info": {
   "codemirror_mode": {
    "name": "ipython",
    "version": 3
   },
   "file_extension": ".py",
   "mimetype": "text/x-python",
   "name": "python",
   "nbconvert_exporter": "python",
   "pygments_lexer": "ipython3",
   "version": "3.6.5"
  }
 },
 "nbformat": 4,
 "nbformat_minor": 2
}